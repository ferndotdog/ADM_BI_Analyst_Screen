{
 "cells": [
  {
   "cell_type": "code",
   "execution_count": 65,
   "metadata": {},
   "outputs": [],
   "source": [
    "# Importing libs/packages\n",
    "%matplotlib inline\n",
    "import matplotlib.pyplot as plt\n",
    "import seaborn as sns\n",
    "import numpy as np\n",
    "import pandas as pd"
   ]
  },
  {
   "cell_type": "markdown",
   "metadata": {},
   "source": [
    "**Notes on Data** \t\n",
    "- Click Status = 1 is a valid click  \t\n",
    "- Click Status > 1 is invalidated click \t\n",
    "- Conversion: action taken on advertiser landing page (purchase, sign up, site visit). - -Conversion = 0 means no action, Conversion > 0 represents the number of actions \t\n",
    "- User Agent String Includes: OS, Browser & Version, Device\t\n",
    "- Each Row represents a single click \t\"\"\"\n",
    "\n",
    "\n",
    "**Provided Data and Definitions:\n",
    "The data represents a set of clicks registered by users searching and clicking on ads on the internet.\n",
    "- click_status: shows if a click is valid or invalid\n",
    "- Timestamp: time of the click\n",
    "- Query Term: the keywords/query the user used in her/his search\n",
    "- IP Address: unique address of the machine the user used in her search\n",
    "- User Agent: A string representing OS, Browser data and Device type the user used\n",
    "- CPC (Cost Per Click): in dollar value\n",
    "- Conversion: action taken on advertiser landing page (purchase, sign up, site visit).**\n",
    "\n",
    "**Assignment:\n",
    "Assume you were to join the team and your task is to utilize the data provided to inform stakeholders on current status, trends and potential optimization strategies.\n",
    "Some suggestions on how you can approach the exercise:\n",
    "Understand the underlying data and definitions.\n",
    "Describe specific metrics you would use to draw business insights and build strategy\n",
    "Any insights on how to drive more efficient Cost per Conversions?**"
   ]
  },
  {
   "cell_type": "markdown",
   "metadata": {},
   "source": [
    "Subjects to tackle\n",
    "\n",
    "- Current status\n",
    "- Trends\n",
    "- Potential optimization strategies\n",
    "\n",
    "Metrics for success?\n",
    " - Conversion rates (CVR)\n",
    " - CTR (could be noisy/red herring, as clicks may not correlate well with conversions)\n",
    " - Impressions\n",
    " - Cost per Conversion\n",
    " - Cost per Click\n",
    " \n",
    " \n",
    " "
   ]
  },
  {
   "cell_type": "markdown",
   "metadata": {},
   "source": [
    "Granularity:  Each record in the dataset represents a single click from a user.  Dataset appears to be a subset of ~10,000 rows on the day of January 15, 2015, from 11:00AM to 3:59PM."
   ]
  },
  {
   "cell_type": "code",
   "execution_count": 66,
   "metadata": {
    "scrolled": true
   },
   "outputs": [],
   "source": [
    "#Loading the dataset into a pandas DataFrame\n",
    "ambi_sandbox = pd.read_csv('AdMarketplace_BI_Sandbox.csv')"
   ]
  },
  {
   "cell_type": "markdown",
   "metadata": {},
   "source": [
    "### Data Verification"
   ]
  },
  {
   "cell_type": "code",
   "execution_count": 67,
   "metadata": {
    "scrolled": true
   },
   "outputs": [
    {
     "data": {
      "text/plain": [
       "True"
      ]
     },
     "execution_count": 67,
     "metadata": {},
     "output_type": "execute_result"
    }
   ],
   "source": [
    "#Ensuring we didn't lose any rows of data when converting from  .xls to .csv\n",
    "10103 == len(ambi_sandbox['click_status'])"
   ]
  },
  {
   "cell_type": "code",
   "execution_count": 68,
   "metadata": {
    "scrolled": false
   },
   "outputs": [
    {
     "data": {
      "text/plain": [
       "Index(['click_status', 'AMP_timestamp', 'Query Term ', 'IP Address',\n",
       "       'User Agent', 'Cost Per Click ', 'Conversions'],\n",
       "      dtype='object')"
      ]
     },
     "execution_count": 68,
     "metadata": {},
     "output_type": "execute_result"
    }
   ],
   "source": [
    "ambi_sandbox.columns"
   ]
  },
  {
   "cell_type": "markdown",
   "metadata": {},
   "source": [
    "### Basic data wrangling to make analysis easier"
   ]
  },
  {
   "cell_type": "code",
   "execution_count": 69,
   "metadata": {},
   "outputs": [
    {
     "data": {
      "text/plain": [
       "Index(['click_status', 'AMP_timestamp', 'Query Term ', 'IP Address',\n",
       "       'User Agent', 'Cost Per Click', 'Conversions'],\n",
       "      dtype='object')"
      ]
     },
     "execution_count": 69,
     "metadata": {},
     "output_type": "execute_result"
    }
   ],
   "source": [
    "#Renaming the Cost Per Click column to remove the extra space at the end \n",
    "ambi_sandbox.rename(columns={\"Cost Per Click \" : \"Cost Per Click\"}, inplace=True)\n",
    "ambi_sandbox.columns"
   ]
  },
  {
   "cell_type": "code",
   "execution_count": 70,
   "metadata": {
    "scrolled": false
   },
   "outputs": [
    {
     "data": {
      "text/html": [
       "<div>\n",
       "<style scoped>\n",
       "    .dataframe tbody tr th:only-of-type {\n",
       "        vertical-align: middle;\n",
       "    }\n",
       "\n",
       "    .dataframe tbody tr th {\n",
       "        vertical-align: top;\n",
       "    }\n",
       "\n",
       "    .dataframe thead th {\n",
       "        text-align: right;\n",
       "    }\n",
       "</style>\n",
       "<table border=\"1\" class=\"dataframe\">\n",
       "  <thead>\n",
       "    <tr style=\"text-align: right;\">\n",
       "      <th></th>\n",
       "      <th>click_status</th>\n",
       "      <th>AMP_timestamp</th>\n",
       "      <th>Query Term</th>\n",
       "      <th>IP Address</th>\n",
       "      <th>User Agent</th>\n",
       "      <th>Cost Per Click</th>\n",
       "      <th>Conversions</th>\n",
       "    </tr>\n",
       "  </thead>\n",
       "  <tbody>\n",
       "    <tr>\n",
       "      <th>0</th>\n",
       "      <td>1</td>\n",
       "      <td>1/29/15 11:00</td>\n",
       "      <td>[\"michael kors\",\"michael michael kors\"]</td>\n",
       "      <td>2.118.171.21</td>\n",
       "      <td>Mozilla/5.0 (iPad; CPU OS 8_1 like Mac OS X) A...</td>\n",
       "      <td>0.28</td>\n",
       "      <td>0</td>\n",
       "    </tr>\n",
       "    <tr>\n",
       "      <th>1</th>\n",
       "      <td>1</td>\n",
       "      <td>1/29/15 11:00</td>\n",
       "      <td>[\"meet girls\",\"dating girls\"]</td>\n",
       "      <td>0.82.173.102</td>\n",
       "      <td>Mozilla/5.0 (Windows NT 5.1; rv:35.0) Gecko/20...</td>\n",
       "      <td>0.17</td>\n",
       "      <td>0</td>\n",
       "    </tr>\n",
       "    <tr>\n",
       "      <th>2</th>\n",
       "      <td>1</td>\n",
       "      <td>1/29/15 11:00</td>\n",
       "      <td>[\"meet girls\",\"dating girls\"]</td>\n",
       "      <td>0.82.173.102</td>\n",
       "      <td>Mozilla/5.0 (Windows NT 5.1; rv:35.0) Gecko/20...</td>\n",
       "      <td>0.17</td>\n",
       "      <td>0</td>\n",
       "    </tr>\n",
       "    <tr>\n",
       "      <th>3</th>\n",
       "      <td>1</td>\n",
       "      <td>1/29/15 11:00</td>\n",
       "      <td>[\"credit report\",\"credit karma\",\"free online c...</td>\n",
       "      <td>219.32.49.92</td>\n",
       "      <td>Mozilla/5.0 (Windows NT 6.3; WOW64) AppleWebKi...</td>\n",
       "      <td>0.90</td>\n",
       "      <td>0</td>\n",
       "    </tr>\n",
       "    <tr>\n",
       "      <th>4</th>\n",
       "      <td>1</td>\n",
       "      <td>1/29/15 11:00</td>\n",
       "      <td>[\"Byethost\"]</td>\n",
       "      <td>13.54.12.142</td>\n",
       "      <td>Mozilla/4.0 (compatible; MSIE 7.0; Windows NT ...</td>\n",
       "      <td>0.17</td>\n",
       "      <td>0</td>\n",
       "    </tr>\n",
       "  </tbody>\n",
       "</table>\n",
       "</div>"
      ],
      "text/plain": [
       "   click_status  AMP_timestamp  \\\n",
       "0             1  1/29/15 11:00   \n",
       "1             1  1/29/15 11:00   \n",
       "2             1  1/29/15 11:00   \n",
       "3             1  1/29/15 11:00   \n",
       "4             1  1/29/15 11:00   \n",
       "\n",
       "                                         Query Term     IP Address  \\\n",
       "0            [\"michael kors\",\"michael michael kors\"]  2.118.171.21   \n",
       "1                      [\"meet girls\",\"dating girls\"]  0.82.173.102   \n",
       "2                      [\"meet girls\",\"dating girls\"]  0.82.173.102   \n",
       "3  [\"credit report\",\"credit karma\",\"free online c...  219.32.49.92   \n",
       "4                                       [\"Byethost\"]  13.54.12.142   \n",
       "\n",
       "                                          User Agent  Cost Per Click  \\\n",
       "0  Mozilla/5.0 (iPad; CPU OS 8_1 like Mac OS X) A...            0.28   \n",
       "1  Mozilla/5.0 (Windows NT 5.1; rv:35.0) Gecko/20...            0.17   \n",
       "2  Mozilla/5.0 (Windows NT 5.1; rv:35.0) Gecko/20...            0.17   \n",
       "3  Mozilla/5.0 (Windows NT 6.3; WOW64) AppleWebKi...            0.90   \n",
       "4  Mozilla/4.0 (compatible; MSIE 7.0; Windows NT ...            0.17   \n",
       "\n",
       "   Conversions  \n",
       "0            0  \n",
       "1            0  \n",
       "2            0  \n",
       "3            0  \n",
       "4            0  "
      ]
     },
     "execution_count": 70,
     "metadata": {},
     "output_type": "execute_result"
    }
   ],
   "source": [
    "#Converting the Cost Per Click series in the DataFrame from string to float values\n",
    "sliced_cpc = ambi_sandbox['Cost Per Click'].str.slice(start=1)\n",
    "floated = sliced_cpc.apply(float)\n",
    "ambi_sandbox['Cost Per Click'] = floated\n",
    "ambi_sandbox.head()"
   ]
  },
  {
   "cell_type": "markdown",
   "metadata": {},
   "source": [
    "### Before analyzing further, I want to get a better idea of the invalid traffic to make sure we aren't making faulty inferences based on data from bots"
   ]
  },
  {
   "cell_type": "code",
   "execution_count": 71,
   "metadata": {
    "scrolled": true
   },
   "outputs": [
    {
     "data": {
      "text/plain": [
       "Index(['click_status', 'AMP_timestamp', 'Query Term ', 'IP Address',\n",
       "       'User Agent', 'Cost Per Click', 'Conversions'],\n",
       "      dtype='object')"
      ]
     },
     "execution_count": 71,
     "metadata": {},
     "output_type": "execute_result"
    }
   ],
   "source": [
    "#Slicing the invalid traffic data into its own dataframe\n",
    "valid_click_statuses = [1]\n",
    "invalidated_click_records = ~ambi_sandbox['click_status'].isin(valid_click_statuses)\n",
    "invalid_dataframe = ambi_sandbox[invalidated_click_records]\n",
    "invalid_dataframe.columns"
   ]
  },
  {
   "cell_type": "markdown",
   "metadata": {},
   "source": [
    "### It looks like a non-negligible amount of the records in the dataset are from invalid traffic"
   ]
  },
  {
   "cell_type": "code",
   "execution_count": 72,
   "metadata": {
    "scrolled": true
   },
   "outputs": [
    {
     "name": "stdout",
     "output_type": "stream",
     "text": [
      "13.76 percent of the original rows are invalid.\n"
     ]
    }
   ],
   "source": [
    "print(str(round(1390/10103,4)*100) + \" percent of the original rows are invalid.\")"
   ]
  },
  {
   "cell_type": "markdown",
   "metadata": {},
   "source": [
    "### We see that there are 1390 rows of invalid traffic contained in the original dataset\n",
    "### Upshot: Presents a revenue leakage for publishers or additional cost for advertisers.\n",
    "Possible path towards solution:\n",
    "- Identify sources of invalid traffic (e.g. IP Addresses linked to datacenters or known bots) to prevent ad fraud."
   ]
  },
  {
   "cell_type": "code",
   "execution_count": 73,
   "metadata": {},
   "outputs": [
    {
     "data": {
      "text/plain": [
       "count    1390.000000\n",
       "mean        0.214122\n",
       "std         0.140875\n",
       "min         0.170000\n",
       "25%         0.170000\n",
       "50%         0.170000\n",
       "75%         0.170000\n",
       "max         1.150000\n",
       "Name: Cost Per Click, dtype: float64"
      ]
     },
     "execution_count": 73,
     "metadata": {},
     "output_type": "execute_result"
    }
   ],
   "source": [
    "#Some summary statistics of how much per click is getting wasted by invalid traffic.\n",
    "invalid_dataframe['Cost Per Click'].describe()"
   ]
  },
  {
   "cell_type": "markdown",
   "metadata": {},
   "source": [
    "### Let's turn our focus towards valid traffic:"
   ]
  },
  {
   "cell_type": "code",
   "execution_count": 74,
   "metadata": {
    "scrolled": true
   },
   "outputs": [
    {
     "data": {
      "text/html": [
       "<div>\n",
       "<style scoped>\n",
       "    .dataframe tbody tr th:only-of-type {\n",
       "        vertical-align: middle;\n",
       "    }\n",
       "\n",
       "    .dataframe tbody tr th {\n",
       "        vertical-align: top;\n",
       "    }\n",
       "\n",
       "    .dataframe thead th {\n",
       "        text-align: right;\n",
       "    }\n",
       "</style>\n",
       "<table border=\"1\" class=\"dataframe\">\n",
       "  <thead>\n",
       "    <tr style=\"text-align: right;\">\n",
       "      <th></th>\n",
       "      <th>click_status</th>\n",
       "      <th>AMP_timestamp</th>\n",
       "      <th>Query Term</th>\n",
       "      <th>IP Address</th>\n",
       "      <th>User Agent</th>\n",
       "      <th>Cost Per Click</th>\n",
       "      <th>Conversions</th>\n",
       "    </tr>\n",
       "  </thead>\n",
       "  <tbody>\n",
       "    <tr>\n",
       "      <th>0</th>\n",
       "      <td>1</td>\n",
       "      <td>1/29/15 11:00</td>\n",
       "      <td>[\"michael kors\",\"michael michael kors\"]</td>\n",
       "      <td>2.118.171.21</td>\n",
       "      <td>Mozilla/5.0 (iPad; CPU OS 8_1 like Mac OS X) A...</td>\n",
       "      <td>0.28</td>\n",
       "      <td>0</td>\n",
       "    </tr>\n",
       "    <tr>\n",
       "      <th>1</th>\n",
       "      <td>1</td>\n",
       "      <td>1/29/15 11:00</td>\n",
       "      <td>[\"meet girls\",\"dating girls\"]</td>\n",
       "      <td>0.82.173.102</td>\n",
       "      <td>Mozilla/5.0 (Windows NT 5.1; rv:35.0) Gecko/20...</td>\n",
       "      <td>0.17</td>\n",
       "      <td>0</td>\n",
       "    </tr>\n",
       "    <tr>\n",
       "      <th>2</th>\n",
       "      <td>1</td>\n",
       "      <td>1/29/15 11:00</td>\n",
       "      <td>[\"meet girls\",\"dating girls\"]</td>\n",
       "      <td>0.82.173.102</td>\n",
       "      <td>Mozilla/5.0 (Windows NT 5.1; rv:35.0) Gecko/20...</td>\n",
       "      <td>0.17</td>\n",
       "      <td>0</td>\n",
       "    </tr>\n",
       "    <tr>\n",
       "      <th>3</th>\n",
       "      <td>1</td>\n",
       "      <td>1/29/15 11:00</td>\n",
       "      <td>[\"credit report\",\"credit karma\",\"free online c...</td>\n",
       "      <td>219.32.49.92</td>\n",
       "      <td>Mozilla/5.0 (Windows NT 6.3; WOW64) AppleWebKi...</td>\n",
       "      <td>0.90</td>\n",
       "      <td>0</td>\n",
       "    </tr>\n",
       "    <tr>\n",
       "      <th>4</th>\n",
       "      <td>1</td>\n",
       "      <td>1/29/15 11:00</td>\n",
       "      <td>[\"Byethost\"]</td>\n",
       "      <td>13.54.12.142</td>\n",
       "      <td>Mozilla/4.0 (compatible; MSIE 7.0; Windows NT ...</td>\n",
       "      <td>0.17</td>\n",
       "      <td>0</td>\n",
       "    </tr>\n",
       "    <tr>\n",
       "      <th>...</th>\n",
       "      <td>...</td>\n",
       "      <td>...</td>\n",
       "      <td>...</td>\n",
       "      <td>...</td>\n",
       "      <td>...</td>\n",
       "      <td>...</td>\n",
       "      <td>...</td>\n",
       "    </tr>\n",
       "    <tr>\n",
       "      <th>10097</th>\n",
       "      <td>1</td>\n",
       "      <td>1/29/15 15:59</td>\n",
       "      <td>[\"pediatric job\",\"F Craigslist\",\"classified new\"]</td>\n",
       "      <td>248.53.158.175</td>\n",
       "      <td>Mozilla/5.0 (Windows NT 6.1) AppleWebKit/537.3...</td>\n",
       "      <td>0.22</td>\n",
       "      <td>1</td>\n",
       "    </tr>\n",
       "    <tr>\n",
       "      <th>10098</th>\n",
       "      <td>1</td>\n",
       "      <td>1/29/15 15:59</td>\n",
       "      <td>[\"facebook\",\"face book\",\"facebo9ok\"]</td>\n",
       "      <td>4.30.46.86</td>\n",
       "      <td>Mozilla/5.0 (Windows NT 5.1) AppleWebKit/537.3...</td>\n",
       "      <td>0.17</td>\n",
       "      <td>0</td>\n",
       "    </tr>\n",
       "    <tr>\n",
       "      <th>10100</th>\n",
       "      <td>1</td>\n",
       "      <td>1/29/15 15:59</td>\n",
       "      <td>[\"google\",\"google downs\"]</td>\n",
       "      <td>18.182.136.64</td>\n",
       "      <td>Mozilla/5.0 (compatible; MSIE 9.0; Windows NT ...</td>\n",
       "      <td>0.17</td>\n",
       "      <td>0</td>\n",
       "    </tr>\n",
       "    <tr>\n",
       "      <th>10101</th>\n",
       "      <td>1</td>\n",
       "      <td>1/29/15 15:59</td>\n",
       "      <td>[\"youtuberepeat\"]</td>\n",
       "      <td>74.85.255.161</td>\n",
       "      <td>Mozilla/5.0 (Windows NT 6.1; WOW64) AppleWebKi...</td>\n",
       "      <td>0.17</td>\n",
       "      <td>0</td>\n",
       "    </tr>\n",
       "    <tr>\n",
       "      <th>10102</th>\n",
       "      <td>1</td>\n",
       "      <td>1/29/15 15:59</td>\n",
       "      <td>[\"new homepage\",\"goolg\",\"goole\"]</td>\n",
       "      <td>97.57.253.226</td>\n",
       "      <td>Mozilla/5.0 (Windows NT 6.1; WOW64) AppleWebKi...</td>\n",
       "      <td>0.17</td>\n",
       "      <td>0</td>\n",
       "    </tr>\n",
       "  </tbody>\n",
       "</table>\n",
       "<p>8713 rows × 7 columns</p>\n",
       "</div>"
      ],
      "text/plain": [
       "       click_status  AMP_timestamp  \\\n",
       "0                 1  1/29/15 11:00   \n",
       "1                 1  1/29/15 11:00   \n",
       "2                 1  1/29/15 11:00   \n",
       "3                 1  1/29/15 11:00   \n",
       "4                 1  1/29/15 11:00   \n",
       "...             ...            ...   \n",
       "10097             1  1/29/15 15:59   \n",
       "10098             1  1/29/15 15:59   \n",
       "10100             1  1/29/15 15:59   \n",
       "10101             1  1/29/15 15:59   \n",
       "10102             1  1/29/15 15:59   \n",
       "\n",
       "                                             Query Term       IP Address  \\\n",
       "0                [\"michael kors\",\"michael michael kors\"]    2.118.171.21   \n",
       "1                          [\"meet girls\",\"dating girls\"]    0.82.173.102   \n",
       "2                          [\"meet girls\",\"dating girls\"]    0.82.173.102   \n",
       "3      [\"credit report\",\"credit karma\",\"free online c...    219.32.49.92   \n",
       "4                                           [\"Byethost\"]    13.54.12.142   \n",
       "...                                                  ...             ...   \n",
       "10097  [\"pediatric job\",\"F Craigslist\",\"classified new\"]  248.53.158.175   \n",
       "10098               [\"facebook\",\"face book\",\"facebo9ok\"]      4.30.46.86   \n",
       "10100                          [\"google\",\"google downs\"]   18.182.136.64   \n",
       "10101                                  [\"youtuberepeat\"]   74.85.255.161   \n",
       "10102                   [\"new homepage\",\"goolg\",\"goole\"]   97.57.253.226   \n",
       "\n",
       "                                              User Agent  Cost Per Click  \\\n",
       "0      Mozilla/5.0 (iPad; CPU OS 8_1 like Mac OS X) A...            0.28   \n",
       "1      Mozilla/5.0 (Windows NT 5.1; rv:35.0) Gecko/20...            0.17   \n",
       "2      Mozilla/5.0 (Windows NT 5.1; rv:35.0) Gecko/20...            0.17   \n",
       "3      Mozilla/5.0 (Windows NT 6.3; WOW64) AppleWebKi...            0.90   \n",
       "4      Mozilla/4.0 (compatible; MSIE 7.0; Windows NT ...            0.17   \n",
       "...                                                  ...             ...   \n",
       "10097  Mozilla/5.0 (Windows NT 6.1) AppleWebKit/537.3...            0.22   \n",
       "10098  Mozilla/5.0 (Windows NT 5.1) AppleWebKit/537.3...            0.17   \n",
       "10100  Mozilla/5.0 (compatible; MSIE 9.0; Windows NT ...            0.17   \n",
       "10101  Mozilla/5.0 (Windows NT 6.1; WOW64) AppleWebKi...            0.17   \n",
       "10102  Mozilla/5.0 (Windows NT 6.1; WOW64) AppleWebKi...            0.17   \n",
       "\n",
       "       Conversions  \n",
       "0                0  \n",
       "1                0  \n",
       "2                0  \n",
       "3                0  \n",
       "4                0  \n",
       "...            ...  \n",
       "10097            1  \n",
       "10098            0  \n",
       "10100            0  \n",
       "10101            0  \n",
       "10102            0  \n",
       "\n",
       "[8713 rows x 7 columns]"
      ]
     },
     "execution_count": 74,
     "metadata": {},
     "output_type": "execute_result"
    }
   ],
   "source": [
    "valid_click_records = ambi_sandbox['click_status'].isin(valid_click_statuses)\n",
    "valid_dataframe = ambi_sandbox[valid_click_records]\n",
    "valid_dataframe"
   ]
  },
  {
   "cell_type": "markdown",
   "metadata": {},
   "source": [
    "# Comparing metrics between valid and invalid traffic"
   ]
  },
  {
   "cell_type": "code",
   "execution_count": 44,
   "metadata": {},
   "outputs": [
    {
     "data": {
      "text/plain": [
       "13.699"
      ]
     },
     "execution_count": 44,
     "metadata": {},
     "output_type": "execute_result"
    }
   ],
   "source": [
    "#Total Conversion rate using complete dataset\n",
    "total_conversions = ambi_sandbox.loc[(ambi_sandbox['Conversions']>=1)]['Conversions'].size\n",
    "total_clicks = ambi_sandbox.loc[(ambi_sandbox['click_status']>=1)]['click_status'].size\n",
    "total_conversion_rate = total_conversions/total_clicks*100\n",
    "round(total_conversion_rate,3)"
   ]
  },
  {
   "cell_type": "code",
   "execution_count": 45,
   "metadata": {},
   "outputs": [
    {
     "data": {
      "text/plain": [
       "15.884"
      ]
     },
     "execution_count": 45,
     "metadata": {},
     "output_type": "execute_result"
    }
   ],
   "source": [
    "#same as above calculated using only valid clicks\n",
    "valid_conversions = valid_dataframe.loc[(valid_dataframe['Conversions']>=1)]['Conversions'].size\n",
    "valid_clicks = valid_dataframe.loc[(valid_dataframe['click_status']>=1)]['click_status'].size\n",
    "valid_conversion_rate = valid_conversions/valid_clicks*100\n",
    "round(valid_conversion_rate,3)"
   ]
  },
  {
   "cell_type": "markdown",
   "metadata": {},
   "source": [
    "### Cost Per Conversion calculations"
   ]
  },
  {
   "cell_type": "code",
   "execution_count": 46,
   "metadata": {},
   "outputs": [
    {
     "name": "stdout",
     "output_type": "stream",
     "text": [
      "1.387\n"
     ]
    }
   ],
   "source": [
    "# Cost per Conversion in the complete dataset\n",
    "sum_complete_costper_click = sum(ambi_sandbox['Cost Per Click'])\n",
    "sum_complete_conversions = sum(ambi_sandbox['Conversions'])\n",
    "total_cost_per_conversion = sum_complete_costper_click / sum_complete_conversions\n",
    "\n",
    "complete_cost_per_conversion = round(total_cost_per_conversion, 3)\n",
    "print(complete_cost_per_conversion)"
   ]
  },
  {
   "cell_type": "markdown",
   "metadata": {},
   "source": [
    "#### Same as above, but calculated using the valid only dataset instead of the complete one."
   ]
  },
  {
   "cell_type": "code",
   "execution_count": 47,
   "metadata": {
    "scrolled": true
   },
   "outputs": [
    {
     "data": {
      "text/plain": [
       "1.272"
      ]
     },
     "execution_count": 47,
     "metadata": {},
     "output_type": "execute_result"
    }
   ],
   "source": [
    "#Cost per Conversion from valid dataset\n",
    "sum_valid_costper_click =  sum(valid_dataframe['Cost Per Click'])\n",
    "sum_valid_conversions = sum(valid_dataframe['Conversions'])\n",
    "valid_cost_per_conversion = sum_valid_costper_click / sum_valid_conversions\n",
    "round(valid_cost_per_conversion,3)"
   ]
  },
  {
   "cell_type": "code",
   "execution_count": 75,
   "metadata": {},
   "outputs": [
    {
     "data": {
      "text/plain": [
       "0.115"
      ]
     },
     "execution_count": 75,
     "metadata": {},
     "output_type": "execute_result"
    }
   ],
   "source": [
    "# How much lower is the cost per conversion when filtering out invalid traffic?\n",
    "round(total_cost_per_conversion - valid_cost_per_conversion, 3)\n"
   ]
  },
  {
   "cell_type": "code",
   "execution_count": 76,
   "metadata": {
    "scrolled": false
   },
   "outputs": [
    {
     "data": {
      "text/plain": [
       "0.08302772176153943"
      ]
     },
     "execution_count": 76,
     "metadata": {},
     "output_type": "execute_result"
    }
   ],
   "source": [
    ".1152/total_cost_per_conversion"
   ]
  },
  {
   "cell_type": "markdown",
   "metadata": {},
   "source": [
    "# Appendix"
   ]
  },
  {
   "cell_type": "markdown",
   "metadata": {},
   "source": [
    "### Given the opportunity, it would be interesting to explore the distribution of variables within AdMarketplace's data.  Below is some preliminary skeleton code that would be explored further, and is not necessary to review."
   ]
  },
  {
   "cell_type": "code",
   "execution_count": 23,
   "metadata": {
    "scrolled": true
   },
   "outputs": [
    {
     "data": {
      "text/plain": [
       "Conversions\n",
       "2     814\n",
       "1     431\n",
       "3      68\n",
       "4      56\n",
       "5       6\n",
       "6       6\n",
       "9       2\n",
       "13      1\n",
       "dtype: int64"
      ]
     },
     "execution_count": 23,
     "metadata": {},
     "output_type": "execute_result"
    }
   ],
   "source": [
    "conversions_only = ambi_sandbox.loc[(ambi_sandbox['Conversions']>=1)]\n",
    "grouped_conversions = conversions_only.groupby('Conversions').size().sort_values(ascending=False)\n",
    "#sns.displot(grouped_conversions)\n",
    "#conversions_only['Conversions'].describe()\n",
    "grouped_conversions"
   ]
  },
  {
   "cell_type": "code",
   "execution_count": 24,
   "metadata": {
    "scrolled": true
   },
   "outputs": [
    {
     "data": {
      "text/plain": [
       "<seaborn.axisgrid.FacetGrid at 0x7fd5b98c23d0>"
      ]
     },
     "execution_count": 24,
     "metadata": {},
     "output_type": "execute_result"
    },
    {
     "data": {
      "image/png": "[encoded data removed]",
      "text/plain": [
       "<Figure size 360x360 with 1 Axes>"
      ]
     },
     "metadata": {
      "needs_background": "light"
     },
     "output_type": "display_data"
    }
   ],
   "source": [
    "sns.displot(ambi_sandbox['click_status'])"
   ]
  },
  {
   "cell_type": "code",
   "execution_count": 25,
   "metadata": {},
   "outputs": [
    {
     "data": {
      "text/plain": [
       "<seaborn.axisgrid.FacetGrid at 0x7fd5b9894a60>"
      ]
     },
     "metadata": {},
     "output_type": "display_data"
    },
    {
     "data": {
      "image/png": "[encoded data removed]",
      "text/plain": [
       "<Figure size 360x360 with 1 Axes>"
      ]
     },
     "metadata": {
      "needs_background": "light"
     },
     "output_type": "display_data"
    }
   ],
   "source": [
    "display(sns.displot(ambi_sandbox['Conversions']))"
   ]
  },
  {
   "cell_type": "code",
   "execution_count": 26,
   "metadata": {
    "scrolled": true
   },
   "outputs": [
    {
     "data": {
      "text/plain": [
       "<seaborn.axisgrid.FacetGrid at 0x7fd5b55324c0>"
      ]
     },
     "execution_count": 26,
     "metadata": {},
     "output_type": "execute_result"
    },
    {
     "data": {
      "image/png": "[encoded data removed]",
      "text/plain": [
       "<Figure size 360x360 with 1 Axes>"
      ]
     },
     "metadata": {
      "needs_background": "light"
     },
     "output_type": "display_data"
    }
   ],
   "source": [
    "#Examining relationship b/w Conversions and CPC\n",
    "sns.lmplot(x=\"Conversions\", y=\"Cost Per Click\", data=ambi_sandbox, robust=True)"
   ]
  },
  {
   "cell_type": "code",
   "execution_count": 27,
   "metadata": {},
   "outputs": [
    {
     "data": {
      "text/plain": [
       "Index(['click_status', 'AMP_timestamp', 'Query Term ', 'IP Address',\n",
       "       'User Agent', 'Cost Per Click', 'Conversions'],\n",
       "      dtype='object')"
      ]
     },
     "execution_count": 27,
     "metadata": {},
     "output_type": "execute_result"
    }
   ],
   "source": [
    "ambi_sandbox.columns"
   ]
  },
  {
   "cell_type": "code",
   "execution_count": 28,
   "metadata": {},
   "outputs": [
    {
     "data": {
      "text/html": [
       "<div>\n",
       "<style scoped>\n",
       "    .dataframe tbody tr th:only-of-type {\n",
       "        vertical-align: middle;\n",
       "    }\n",
       "\n",
       "    .dataframe tbody tr th {\n",
       "        vertical-align: top;\n",
       "    }\n",
       "\n",
       "    .dataframe thead th {\n",
       "        text-align: right;\n",
       "    }\n",
       "</style>\n",
       "<table border=\"1\" class=\"dataframe\">\n",
       "  <thead>\n",
       "    <tr style=\"text-align: right;\">\n",
       "      <th></th>\n",
       "      <th>click_status</th>\n",
       "      <th>AMP_timestamp</th>\n",
       "      <th>Query Term</th>\n",
       "      <th>IP Address</th>\n",
       "      <th>User Agent</th>\n",
       "      <th>Cost Per Click</th>\n",
       "      <th>Conversions</th>\n",
       "    </tr>\n",
       "  </thead>\n",
       "  <tbody>\n",
       "    <tr>\n",
       "      <th>5409</th>\n",
       "      <td>1</td>\n",
       "      <td>1/29/15 13:28</td>\n",
       "      <td>[\"mazda\",\"car mazda\"]</td>\n",
       "      <td>174.156.2.142</td>\n",
       "      <td>Mozilla/5.0 (Windows NT 6.3; WOW64; rv:35.0) G...</td>\n",
       "      <td>7.14</td>\n",
       "      <td>13</td>\n",
       "    </tr>\n",
       "    <tr>\n",
       "      <th>1805</th>\n",
       "      <td>1</td>\n",
       "      <td>1/29/15 12:05</td>\n",
       "      <td>[\"turbo tax\",\"turbotax\",\"free filing\"]</td>\n",
       "      <td>220.91.64.196</td>\n",
       "      <td>Mozilla/5.0 (Windows NT 6.1; WOW64; Trident/7....</td>\n",
       "      <td>27.10</td>\n",
       "      <td>9</td>\n",
       "    </tr>\n",
       "    <tr>\n",
       "      <th>3503</th>\n",
       "      <td>1</td>\n",
       "      <td>1/29/15 12:37</td>\n",
       "      <td>[\"turbo tax\",\"turbotax\",\"intuit turbotax\"]</td>\n",
       "      <td>222.147.111.201</td>\n",
       "      <td>Mozilla/5.0 (Windows NT 6.3; WOW64) AppleWebKi...</td>\n",
       "      <td>27.10</td>\n",
       "      <td>9</td>\n",
       "    </tr>\n",
       "    <tr>\n",
       "      <th>1685</th>\n",
       "      <td>1</td>\n",
       "      <td>1/29/15 12:03</td>\n",
       "      <td>[\"auto\",\"auto auction of america\",\"property au...</td>\n",
       "      <td>2.203.151.191</td>\n",
       "      <td>Mozilla/5.0 (Windows NT 6.3; Win64; x64; Tride...</td>\n",
       "      <td>3.38</td>\n",
       "      <td>6</td>\n",
       "    </tr>\n",
       "    <tr>\n",
       "      <th>3293</th>\n",
       "      <td>1</td>\n",
       "      <td>1/29/15 12:33</td>\n",
       "      <td>[\"auto service\",\"auto repair\",\"repair car\"]</td>\n",
       "      <td>67.57.99.87</td>\n",
       "      <td>Mozilla/4.0 (compatible; MSIE 8.0; Windows NT ...</td>\n",
       "      <td>3.38</td>\n",
       "      <td>6</td>\n",
       "    </tr>\n",
       "    <tr>\n",
       "      <th>...</th>\n",
       "      <td>...</td>\n",
       "      <td>...</td>\n",
       "      <td>...</td>\n",
       "      <td>...</td>\n",
       "      <td>...</td>\n",
       "      <td>...</td>\n",
       "      <td>...</td>\n",
       "    </tr>\n",
       "    <tr>\n",
       "      <th>3491</th>\n",
       "      <td>1</td>\n",
       "      <td>1/29/15 12:37</td>\n",
       "      <td>[\"cheap deals\",\"inclusive vacations\",\"travel d...</td>\n",
       "      <td>204.242.227.49</td>\n",
       "      <td>Mozilla/4.0 (compatible; MSIE 6.0; Windows NT ...</td>\n",
       "      <td>0.17</td>\n",
       "      <td>0</td>\n",
       "    </tr>\n",
       "    <tr>\n",
       "      <th>3492</th>\n",
       "      <td>1</td>\n",
       "      <td>1/29/15 12:37</td>\n",
       "      <td>[\"satellite maps\",\"goolg\"]</td>\n",
       "      <td>204.242.182.224</td>\n",
       "      <td>Mozilla/4.0 (compatible; MSIE 8.0; Windows NT ...</td>\n",
       "      <td>0.17</td>\n",
       "      <td>0</td>\n",
       "    </tr>\n",
       "    <tr>\n",
       "      <th>3493</th>\n",
       "      <td>1</td>\n",
       "      <td>1/29/15 12:37</td>\n",
       "      <td>[\"shopping\",\"online shopping\",\"shopping cart\"]</td>\n",
       "      <td>224.246.143.63</td>\n",
       "      <td>Mozilla/5.0 (compatible; MSIE 8.0; Windows NT ...</td>\n",
       "      <td>0.17</td>\n",
       "      <td>0</td>\n",
       "    </tr>\n",
       "    <tr>\n",
       "      <th>3494</th>\n",
       "      <td>1</td>\n",
       "      <td>1/29/15 12:37</td>\n",
       "      <td>[\"credit report\",\"credit card help\",\"freecredit\"]</td>\n",
       "      <td>204.46.254.141</td>\n",
       "      <td>Mozilla/5.0 (Windows; U; Windows NT 5.1; en-US...</td>\n",
       "      <td>0.18</td>\n",
       "      <td>0</td>\n",
       "    </tr>\n",
       "    <tr>\n",
       "      <th>10102</th>\n",
       "      <td>1</td>\n",
       "      <td>1/29/15 15:59</td>\n",
       "      <td>[\"new homepage\",\"goolg\",\"goole\"]</td>\n",
       "      <td>97.57.253.226</td>\n",
       "      <td>Mozilla/5.0 (Windows NT 6.1; WOW64) AppleWebKi...</td>\n",
       "      <td>0.17</td>\n",
       "      <td>0</td>\n",
       "    </tr>\n",
       "  </tbody>\n",
       "</table>\n",
       "<p>10103 rows × 7 columns</p>\n",
       "</div>"
      ],
      "text/plain": [
       "       click_status  AMP_timestamp  \\\n",
       "5409              1  1/29/15 13:28   \n",
       "1805              1  1/29/15 12:05   \n",
       "3503              1  1/29/15 12:37   \n",
       "1685              1  1/29/15 12:03   \n",
       "3293              1  1/29/15 12:33   \n",
       "...             ...            ...   \n",
       "3491              1  1/29/15 12:37   \n",
       "3492              1  1/29/15 12:37   \n",
       "3493              1  1/29/15 12:37   \n",
       "3494              1  1/29/15 12:37   \n",
       "10102             1  1/29/15 15:59   \n",
       "\n",
       "                                             Query Term        IP Address  \\\n",
       "5409                               [\"mazda\",\"car mazda\"]    174.156.2.142   \n",
       "1805              [\"turbo tax\",\"turbotax\",\"free filing\"]    220.91.64.196   \n",
       "3503          [\"turbo tax\",\"turbotax\",\"intuit turbotax\"]  222.147.111.201   \n",
       "1685   [\"auto\",\"auto auction of america\",\"property au...    2.203.151.191   \n",
       "3293         [\"auto service\",\"auto repair\",\"repair car\"]      67.57.99.87   \n",
       "...                                                  ...              ...   \n",
       "3491   [\"cheap deals\",\"inclusive vacations\",\"travel d...   204.242.227.49   \n",
       "3492                          [\"satellite maps\",\"goolg\"]  204.242.182.224   \n",
       "3493      [\"shopping\",\"online shopping\",\"shopping cart\"]   224.246.143.63   \n",
       "3494   [\"credit report\",\"credit card help\",\"freecredit\"]   204.46.254.141   \n",
       "10102                   [\"new homepage\",\"goolg\",\"goole\"]    97.57.253.226   \n",
       "\n",
       "                                              User Agent  Cost Per Click  \\\n",
       "5409   Mozilla/5.0 (Windows NT 6.3; WOW64; rv:35.0) G...            7.14   \n",
       "1805   Mozilla/5.0 (Windows NT 6.1; WOW64; Trident/7....           27.10   \n",
       "3503   Mozilla/5.0 (Windows NT 6.3; WOW64) AppleWebKi...           27.10   \n",
       "1685   Mozilla/5.0 (Windows NT 6.3; Win64; x64; Tride...            3.38   \n",
       "3293   Mozilla/4.0 (compatible; MSIE 8.0; Windows NT ...            3.38   \n",
       "...                                                  ...             ...   \n",
       "3491   Mozilla/4.0 (compatible; MSIE 6.0; Windows NT ...            0.17   \n",
       "3492   Mozilla/4.0 (compatible; MSIE 8.0; Windows NT ...            0.17   \n",
       "3493   Mozilla/5.0 (compatible; MSIE 8.0; Windows NT ...            0.17   \n",
       "3494   Mozilla/5.0 (Windows; U; Windows NT 5.1; en-US...            0.18   \n",
       "10102  Mozilla/5.0 (Windows NT 6.1; WOW64) AppleWebKi...            0.17   \n",
       "\n",
       "       Conversions  \n",
       "5409            13  \n",
       "1805             9  \n",
       "3503             9  \n",
       "1685             6  \n",
       "3293             6  \n",
       "...            ...  \n",
       "3491             0  \n",
       "3492             0  \n",
       "3493             0  \n",
       "3494             0  \n",
       "10102            0  \n",
       "\n",
       "[10103 rows x 7 columns]"
      ]
     },
     "execution_count": 28,
     "metadata": {},
     "output_type": "execute_result"
    }
   ],
   "source": [
    "ambi_sandbox.sort_values('Conversions', ascending=False)"
   ]
  },
  {
   "cell_type": "code",
   "execution_count": 50,
   "metadata": {
    "scrolled": false
   },
   "outputs": [
    {
     "data": {
      "text/plain": [
       "Float64Index([0.17, 0.18, 0.19,  0.2, 0.21, 0.22, 0.24, 0.25, 0.26, 0.27, 0.28,\n",
       "              0.29, 0.31, 0.33, 0.34, 0.35, 0.36, 0.37, 0.38, 0.39,  0.4, 0.41,\n",
       "              0.42, 0.44, 0.45, 0.47, 0.48,  0.5, 0.51, 0.52, 0.54, 0.56, 0.57,\n",
       "              0.59, 0.61, 0.62, 0.64, 0.65, 0.67, 0.69,  0.7, 0.71, 0.72, 0.77,\n",
       "               0.8, 0.81, 0.83, 0.84, 0.85, 0.86, 0.88,  0.9, 0.91, 0.95,  1.0,\n",
       "              1.06, 1.07, 1.11, 1.15, 1.17, 1.19,  1.2, 1.21, 1.22, 1.23, 1.24,\n",
       "              1.33, 1.34, 1.42, 1.53, 1.69, 1.77, 1.81, 1.95,  2.0, 2.05, 2.09,\n",
       "              2.12, 2.13, 2.26,  2.3, 2.31, 2.34, 2.39, 2.78, 2.85, 3.16, 3.38,\n",
       "              3.46, 3.94, 4.25, 5.93, 6.15, 6.46, 7.14, 8.01, 9.14, 27.1],\n",
       "             dtype='float64')"
      ]
     },
     "execution_count": 50,
     "metadata": {},
     "output_type": "execute_result"
    }
   ],
   "source": [
    "#What's the distribution of CPC values like?\n",
    "cpc_counts = ambi_sandbox['Cost Per Click'].value_counts(sort=True)\n",
    "sorted_keys = cpc_counts.keys().sort_values()\n",
    "sorted_keys"
   ]
  }
 ],
 "metadata": {
  "kernelspec": {
   "display_name": "Python 3 (ipykernel)",
   "language": "python",
   "name": "python3"
  },
  "language_info": {
   "codemirror_mode": {
    "name": "ipython",
    "version": 3
   },
   "file_extension": ".py",
   "mimetype": "text/x-python",
   "name": "python",
   "nbconvert_exporter": "python",
   "pygments_lexer": "ipython3",
   "version": "3.8.10"
  }
 },
 "nbformat": 4,
 "nbformat_minor": 4
}
